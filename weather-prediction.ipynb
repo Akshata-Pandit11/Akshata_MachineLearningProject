{
 "cells": [
  {
   "cell_type": "markdown",
   "id": "e4bb4512-5da0-4723-b9d7-71eeb45d26db",
   "metadata": {},
   "source": [
    "# IMPORTING NECESSARY LIBRARIES"
   ]
  },
  {
   "cell_type": "code",
   "execution_count": 1,
   "id": "4dabca2e-72a1-4c51-bcf6-3e9bc0eba895",
   "metadata": {},
   "outputs": [],
   "source": [
    "from flask import json\n",
    "import pandas as pd\n",
    "from datetime import datetime\n",
    "from sklearn.preprocessing import StandardScaler\n",
    "from sklearn.ensemble import RandomForestClassifier\n",
    "import numpy as np\n",
    "import pandas as pd  \n",
    "from sklearn.model_selection import train_test_split\n",
    "from sklearn.linear_model import LogisticRegression\n",
    "from sklearn.exceptions import ConvergenceWarning \n",
    "import pickle\n",
    "from sklearn.metrics import classification_report\n",
    "import requests\n",
    "from sklearn.metrics import accuracy_score, precision_score, recall_score, cohen_kappa_score, confusion_matrix, ConfusionMatrixDisplay, classification_report\n",
    "from sklearn.svm import SVC\n",
    "from sklearn.linear_model import LinearRegression\n",
    "import matplotlib.pyplot as plt\n",
    "from sklearn.svm import SVC\n",
    "from sklearn.metrics import roc_curve, roc_auc_score,auc\n",
    "from sklearn.model_selection import GridSearchCV"
   ]
  },
  {
   "cell_type": "markdown",
   "id": "79070b9f-3811-4c28-965f-ae8e054ff965",
   "metadata": {},
   "source": [
    "# READING THE DATASET BENGALURU.CSV.\n",
    "THIS CSV FILE CONTAINS THE DATA RELATED WEATHER OF BENGALURU FROM 1990 TO 2022.THE ATTRIBUTES IN THE DATASET ARE \n",
    "1>MAXIMUM TEMPERATURE tmax\n",
    "2>MINIMUM TEMPERATURE tmin\n",
    "3>PRECIPITATION prcp"
   ]
  },
  {
   "cell_type": "code",
   "execution_count": 302,
   "id": "4b1c4525-9c37-4c6f-9240-6cd76c5d692c",
   "metadata": {},
   "outputs": [],
   "source": [
    "bng=pd.read_csv(\"C:\\\\Users\\\\Akshata Pandit\\\\dataset\\\\temp\\\\Temperature_And_Precipitation_Cities_IN\\\\bengaluru.csv\", encoding='utf-8',index_col='time')"
   ]
  },
  {
   "cell_type": "code",
   "execution_count": 303,
   "id": "2d6cb341-9618-42a8-94f9-d9736a94c7ef",
   "metadata": {},
   "outputs": [
    {
     "data": {
      "text/html": [
       "<div>\n",
       "<style scoped>\n",
       "    .dataframe tbody tr th:only-of-type {\n",
       "        vertical-align: middle;\n",
       "    }\n",
       "\n",
       "    .dataframe tbody tr th {\n",
       "        vertical-align: top;\n",
       "    }\n",
       "\n",
       "    .dataframe thead th {\n",
       "        text-align: right;\n",
       "    }\n",
       "</style>\n",
       "<table border=\"1\" class=\"dataframe\">\n",
       "  <thead>\n",
       "    <tr style=\"text-align: right;\">\n",
       "      <th></th>\n",
       "      <th>tavg</th>\n",
       "      <th>tmin</th>\n",
       "      <th>tmax</th>\n",
       "      <th>prcp</th>\n",
       "    </tr>\n",
       "    <tr>\n",
       "      <th>time</th>\n",
       "      <th></th>\n",
       "      <th></th>\n",
       "      <th></th>\n",
       "      <th></th>\n",
       "    </tr>\n",
       "  </thead>\n",
       "  <tbody>\n",
       "    <tr>\n",
       "      <th>01-01-1990</th>\n",
       "      <td>22.9</td>\n",
       "      <td>19.1</td>\n",
       "      <td>28.4</td>\n",
       "      <td>NaN</td>\n",
       "    </tr>\n",
       "    <tr>\n",
       "      <th>02-01-1990</th>\n",
       "      <td>21.7</td>\n",
       "      <td>NaN</td>\n",
       "      <td>26.5</td>\n",
       "      <td>0.0</td>\n",
       "    </tr>\n",
       "    <tr>\n",
       "      <th>03-01-1990</th>\n",
       "      <td>21.0</td>\n",
       "      <td>16.4</td>\n",
       "      <td>26.5</td>\n",
       "      <td>0.0</td>\n",
       "    </tr>\n",
       "    <tr>\n",
       "      <th>04-01-1990</th>\n",
       "      <td>20.8</td>\n",
       "      <td>NaN</td>\n",
       "      <td>27.4</td>\n",
       "      <td>0.0</td>\n",
       "    </tr>\n",
       "    <tr>\n",
       "      <th>05-01-1990</th>\n",
       "      <td>20.4</td>\n",
       "      <td>14.2</td>\n",
       "      <td>26.1</td>\n",
       "      <td>0.0</td>\n",
       "    </tr>\n",
       "    <tr>\n",
       "      <th>...</th>\n",
       "      <td>...</td>\n",
       "      <td>...</td>\n",
       "      <td>...</td>\n",
       "      <td>...</td>\n",
       "    </tr>\n",
       "    <tr>\n",
       "      <th>21-07-2022</th>\n",
       "      <td>23.7</td>\n",
       "      <td>20.5</td>\n",
       "      <td>30.8</td>\n",
       "      <td>82.5</td>\n",
       "    </tr>\n",
       "    <tr>\n",
       "      <th>22-07-2022</th>\n",
       "      <td>23.2</td>\n",
       "      <td>21.1</td>\n",
       "      <td>27.9</td>\n",
       "      <td>0.0</td>\n",
       "    </tr>\n",
       "    <tr>\n",
       "      <th>23-07-2022</th>\n",
       "      <td>23.1</td>\n",
       "      <td>20.9</td>\n",
       "      <td>26.7</td>\n",
       "      <td>0.0</td>\n",
       "    </tr>\n",
       "    <tr>\n",
       "      <th>24-07-2022</th>\n",
       "      <td>22.8</td>\n",
       "      <td>20.0</td>\n",
       "      <td>26.7</td>\n",
       "      <td>0.3</td>\n",
       "    </tr>\n",
       "    <tr>\n",
       "      <th>25-07-2022</th>\n",
       "      <td>24.1</td>\n",
       "      <td>20.2</td>\n",
       "      <td>28.5</td>\n",
       "      <td>0.5</td>\n",
       "    </tr>\n",
       "  </tbody>\n",
       "</table>\n",
       "<p>11894 rows × 4 columns</p>\n",
       "</div>"
      ],
      "text/plain": [
       "            tavg  tmin  tmax  prcp\n",
       "time                              \n",
       "01-01-1990  22.9  19.1  28.4   NaN\n",
       "02-01-1990  21.7   NaN  26.5   0.0\n",
       "03-01-1990  21.0  16.4  26.5   0.0\n",
       "04-01-1990  20.8   NaN  27.4   0.0\n",
       "05-01-1990  20.4  14.2  26.1   0.0\n",
       "...          ...   ...   ...   ...\n",
       "21-07-2022  23.7  20.5  30.8  82.5\n",
       "22-07-2022  23.2  21.1  27.9   0.0\n",
       "23-07-2022  23.1  20.9  26.7   0.0\n",
       "24-07-2022  22.8  20.0  26.7   0.3\n",
       "25-07-2022  24.1  20.2  28.5   0.5\n",
       "\n",
       "[11894 rows x 4 columns]"
      ]
     },
     "execution_count": 303,
     "metadata": {},
     "output_type": "execute_result"
    }
   ],
   "source": [
    "bng"
   ]
  },
  {
   "cell_type": "code",
   "execution_count": 304,
   "id": "70ff3b74-1ffc-41df-86a0-8f7279856245",
   "metadata": {},
   "outputs": [
    {
     "data": {
      "text/plain": [
       "Index(['01-01-1990', '02-01-1990', '03-01-1990', '04-01-1990', '05-01-1990',\n",
       "       '06-01-1990', '07-01-1990', '08-01-1990', '09-01-1990', '10-01-1990',\n",
       "       ...\n",
       "       '16-07-2022', '17-07-2022', '18-07-2022', '19-07-2022', '20-07-2022',\n",
       "       '21-07-2022', '22-07-2022', '23-07-2022', '24-07-2022', '25-07-2022'],\n",
       "      dtype='object', name='time', length=11894)"
      ]
     },
     "execution_count": 304,
     "metadata": {},
     "output_type": "execute_result"
    }
   ],
   "source": [
    "bng.index"
   ]
  },
  {
   "cell_type": "markdown",
   "id": "a93d1ec9-622f-4531-b237-03312a5220ed",
   "metadata": {},
   "source": [
    "#  FORMATTING \n",
    "THE INDEX IN A COMMON ORDER OF THE DATE AND TIME"
   ]
  },
  {
   "cell_type": "code",
   "execution_count": 305,
   "id": "f0d2c4d9-e0bb-4121-b73b-948e31398f13",
   "metadata": {},
   "outputs": [],
   "source": [
    "for fmt in ['%m-%d-%Y', '%d-%m-%Y', '%B %d, %Y']:\n",
    "  try:\n",
    "    bng.index = pd.to_datetime(bng.index, format=fmt)\n",
    "    break\n",
    "  except ValueError:\n",
    "    pass\n"
   ]
  },
  {
   "cell_type": "code",
   "execution_count": 306,
   "id": "bab6da46-6431-4d6a-95a5-9b7a581ea1dc",
   "metadata": {},
   "outputs": [
    {
     "data": {
      "text/html": [
       "<div>\n",
       "<style scoped>\n",
       "    .dataframe tbody tr th:only-of-type {\n",
       "        vertical-align: middle;\n",
       "    }\n",
       "\n",
       "    .dataframe tbody tr th {\n",
       "        vertical-align: top;\n",
       "    }\n",
       "\n",
       "    .dataframe thead th {\n",
       "        text-align: right;\n",
       "    }\n",
       "</style>\n",
       "<table border=\"1\" class=\"dataframe\">\n",
       "  <thead>\n",
       "    <tr style=\"text-align: right;\">\n",
       "      <th></th>\n",
       "      <th>tavg</th>\n",
       "      <th>tmin</th>\n",
       "      <th>tmax</th>\n",
       "      <th>prcp</th>\n",
       "    </tr>\n",
       "    <tr>\n",
       "      <th>time</th>\n",
       "      <th></th>\n",
       "      <th></th>\n",
       "      <th></th>\n",
       "      <th></th>\n",
       "    </tr>\n",
       "  </thead>\n",
       "  <tbody>\n",
       "    <tr>\n",
       "      <th>1990-01-01</th>\n",
       "      <td>22.9</td>\n",
       "      <td>19.1</td>\n",
       "      <td>28.4</td>\n",
       "      <td>NaN</td>\n",
       "    </tr>\n",
       "    <tr>\n",
       "      <th>1990-01-02</th>\n",
       "      <td>21.7</td>\n",
       "      <td>NaN</td>\n",
       "      <td>26.5</td>\n",
       "      <td>0.0</td>\n",
       "    </tr>\n",
       "    <tr>\n",
       "      <th>1990-01-03</th>\n",
       "      <td>21.0</td>\n",
       "      <td>16.4</td>\n",
       "      <td>26.5</td>\n",
       "      <td>0.0</td>\n",
       "    </tr>\n",
       "    <tr>\n",
       "      <th>1990-01-04</th>\n",
       "      <td>20.8</td>\n",
       "      <td>NaN</td>\n",
       "      <td>27.4</td>\n",
       "      <td>0.0</td>\n",
       "    </tr>\n",
       "    <tr>\n",
       "      <th>1990-01-05</th>\n",
       "      <td>20.4</td>\n",
       "      <td>14.2</td>\n",
       "      <td>26.1</td>\n",
       "      <td>0.0</td>\n",
       "    </tr>\n",
       "    <tr>\n",
       "      <th>...</th>\n",
       "      <td>...</td>\n",
       "      <td>...</td>\n",
       "      <td>...</td>\n",
       "      <td>...</td>\n",
       "    </tr>\n",
       "    <tr>\n",
       "      <th>2022-07-21</th>\n",
       "      <td>23.7</td>\n",
       "      <td>20.5</td>\n",
       "      <td>30.8</td>\n",
       "      <td>82.5</td>\n",
       "    </tr>\n",
       "    <tr>\n",
       "      <th>2022-07-22</th>\n",
       "      <td>23.2</td>\n",
       "      <td>21.1</td>\n",
       "      <td>27.9</td>\n",
       "      <td>0.0</td>\n",
       "    </tr>\n",
       "    <tr>\n",
       "      <th>2022-07-23</th>\n",
       "      <td>23.1</td>\n",
       "      <td>20.9</td>\n",
       "      <td>26.7</td>\n",
       "      <td>0.0</td>\n",
       "    </tr>\n",
       "    <tr>\n",
       "      <th>2022-07-24</th>\n",
       "      <td>22.8</td>\n",
       "      <td>20.0</td>\n",
       "      <td>26.7</td>\n",
       "      <td>0.3</td>\n",
       "    </tr>\n",
       "    <tr>\n",
       "      <th>2022-07-25</th>\n",
       "      <td>24.1</td>\n",
       "      <td>20.2</td>\n",
       "      <td>28.5</td>\n",
       "      <td>0.5</td>\n",
       "    </tr>\n",
       "  </tbody>\n",
       "</table>\n",
       "<p>11894 rows × 4 columns</p>\n",
       "</div>"
      ],
      "text/plain": [
       "            tavg  tmin  tmax  prcp\n",
       "time                              \n",
       "1990-01-01  22.9  19.1  28.4   NaN\n",
       "1990-01-02  21.7   NaN  26.5   0.0\n",
       "1990-01-03  21.0  16.4  26.5   0.0\n",
       "1990-01-04  20.8   NaN  27.4   0.0\n",
       "1990-01-05  20.4  14.2  26.1   0.0\n",
       "...          ...   ...   ...   ...\n",
       "2022-07-21  23.7  20.5  30.8  82.5\n",
       "2022-07-22  23.2  21.1  27.9   0.0\n",
       "2022-07-23  23.1  20.9  26.7   0.0\n",
       "2022-07-24  22.8  20.0  26.7   0.3\n",
       "2022-07-25  24.1  20.2  28.5   0.5\n",
       "\n",
       "[11894 rows x 4 columns]"
      ]
     },
     "execution_count": 306,
     "metadata": {},
     "output_type": "execute_result"
    }
   ],
   "source": [
    "bng"
   ]
  },
  {
   "cell_type": "markdown",
   "id": "bcd5debd-8e41-45f1-ad4a-e5246da56de0",
   "metadata": {},
   "source": [
    "# DATASET CLEANING\n",
    "CHECKING FOR THE NAN VALUES IN THE DATASET FOR EACH ATTRIBUTES CALCULATING SUM IS DONE BY USING ISNULL() AND SUM() FUNCTIONS\n",
    "FILLING THE EMPTY VALUES BY FFILL()"
   ]
  },
  {
   "cell_type": "code",
   "execution_count": 307,
   "id": "f76b0959-125d-41e1-9ad9-d50e130c1ad2",
   "metadata": {},
   "outputs": [
    {
     "data": {
      "text/plain": [
       "tavg      70\n",
       "tmin    1389\n",
       "tmax     629\n",
       "prcp    4620\n",
       "dtype: int64"
      ]
     },
     "execution_count": 307,
     "metadata": {},
     "output_type": "execute_result"
    }
   ],
   "source": [
    "bng.isnull().sum()"
   ]
  },
  {
   "cell_type": "code",
   "execution_count": 308,
   "id": "402fc204-e727-44e1-8203-9bc1b7468aaa",
   "metadata": {},
   "outputs": [
    {
     "data": {
      "text/plain": [
       "tavg    0\n",
       "tmin    0\n",
       "tmax    0\n",
       "prcp    0\n",
       "dtype: int64"
      ]
     },
     "execution_count": 308,
     "metadata": {},
     "output_type": "execute_result"
    }
   ],
   "source": [
    "bng=bng.ffill()\n",
    "bng=bng.dropna(axis=0)\n",
    "bng.isnull().sum()"
   ]
  },
  {
   "cell_type": "code",
   "execution_count": 309,
   "id": "4feeb014-d384-4381-bf3d-18825ae8ebf8",
   "metadata": {},
   "outputs": [
    {
     "data": {
      "text/plain": [
       "time\n",
       "1990    364\n",
       "1991    365\n",
       "1992    366\n",
       "1993    365\n",
       "1994    365\n",
       "1995    365\n",
       "1996    366\n",
       "1997    365\n",
       "1998    365\n",
       "1999    365\n",
       "2000    366\n",
       "2001    365\n",
       "2002    365\n",
       "2003    365\n",
       "2004    366\n",
       "2005    365\n",
       "2006    365\n",
       "2007    365\n",
       "2008    366\n",
       "2009    365\n",
       "2010    365\n",
       "2011    365\n",
       "2012    366\n",
       "2013    365\n",
       "2014    365\n",
       "2015    365\n",
       "2016    366\n",
       "2017    365\n",
       "2018    365\n",
       "2019    365\n",
       "2020    366\n",
       "2021    365\n",
       "2022    206\n",
       "Name: count, dtype: int64"
      ]
     },
     "execution_count": 309,
     "metadata": {},
     "output_type": "execute_result"
    }
   ],
   "source": [
    "bng.index.year.value_counts().sort_index()"
   ]
  },
  {
   "cell_type": "markdown",
   "id": "eb6cca5d-5110-44ca-841d-c75536af53dc",
   "metadata": {},
   "source": [
    "# CORRELATION BETWEEN THE ATTRIBUTES OF THE DATASET\n",
    "Pandas dataframe.corr() is used to find the pairwise correlation of all columns in the Pandas Dataframe in Python. Any NaN values are automatically excluded. To ignore any non-numeric values, use the parameter numeric_only = True. In this article, we will learn about DataFrame.corr() method in Python."
   ]
  },
  {
   "cell_type": "code",
   "execution_count": 310,
   "id": "0dde4437-d04e-4d76-b8bf-ea653a16944d",
   "metadata": {},
   "outputs": [
    {
     "data": {
      "text/html": [
       "<div>\n",
       "<style scoped>\n",
       "    .dataframe tbody tr th:only-of-type {\n",
       "        vertical-align: middle;\n",
       "    }\n",
       "\n",
       "    .dataframe tbody tr th {\n",
       "        vertical-align: top;\n",
       "    }\n",
       "\n",
       "    .dataframe thead th {\n",
       "        text-align: right;\n",
       "    }\n",
       "</style>\n",
       "<table border=\"1\" class=\"dataframe\">\n",
       "  <thead>\n",
       "    <tr style=\"text-align: right;\">\n",
       "      <th></th>\n",
       "      <th>tavg</th>\n",
       "      <th>tmin</th>\n",
       "      <th>tmax</th>\n",
       "      <th>prcp</th>\n",
       "    </tr>\n",
       "  </thead>\n",
       "  <tbody>\n",
       "    <tr>\n",
       "      <th>tavg</th>\n",
       "      <td>1.000000</td>\n",
       "      <td>0.715097</td>\n",
       "      <td>0.870992</td>\n",
       "      <td>-0.044649</td>\n",
       "    </tr>\n",
       "    <tr>\n",
       "      <th>tmin</th>\n",
       "      <td>0.715097</td>\n",
       "      <td>1.000000</td>\n",
       "      <td>0.455101</td>\n",
       "      <td>0.049598</td>\n",
       "    </tr>\n",
       "    <tr>\n",
       "      <th>tmax</th>\n",
       "      <td>0.870992</td>\n",
       "      <td>0.455101</td>\n",
       "      <td>1.000000</td>\n",
       "      <td>-0.083889</td>\n",
       "    </tr>\n",
       "    <tr>\n",
       "      <th>prcp</th>\n",
       "      <td>-0.044649</td>\n",
       "      <td>0.049598</td>\n",
       "      <td>-0.083889</td>\n",
       "      <td>1.000000</td>\n",
       "    </tr>\n",
       "  </tbody>\n",
       "</table>\n",
       "</div>"
      ],
      "text/plain": [
       "          tavg      tmin      tmax      prcp\n",
       "tavg  1.000000  0.715097  0.870992 -0.044649\n",
       "tmin  0.715097  1.000000  0.455101  0.049598\n",
       "tmax  0.870992  0.455101  1.000000 -0.083889\n",
       "prcp -0.044649  0.049598 -0.083889  1.000000"
      ]
     },
     "execution_count": 310,
     "metadata": {},
     "output_type": "execute_result"
    }
   ],
   "source": [
    "bng.corr()"
   ]
  },
  {
   "cell_type": "code",
   "execution_count": 311,
   "id": "7d77f2e1-0eed-4fb1-9510-c02c9534c70a",
   "metadata": {},
   "outputs": [
    {
     "data": {
      "image/png": "[encoded data removed]",
      "text/plain": [
       "<Figure size 640x480 with 1 Axes>"
      ]
     },
     "metadata": {},
     "output_type": "display_data"
    }
   ],
   "source": [
    "plt.boxplot(bng,labels=['tavg','tmin','tmax','prcp'])\n",
    "plt.xlabel('features')\n",
    "plt.ylabel('outliers')\n",
    "plt.title(\"before outliers handling\")\n",
    "plt.show()"
   ]
  },
  {
   "cell_type": "code",
   "execution_count": 312,
   "id": "68e46a19-df43-41eb-994f-0cadd1a6d0dd",
   "metadata": {},
   "outputs": [],
   "source": [
    "import numpy as np\n",
    "\n",
    "def handle_outliers(data, threshold=1.5):\n",
    "    q1 = np.percentile(data, 25)\n",
    "    q3 = np.percentile(data, 75)\n",
    "    iqr = q3 - q1\n",
    "    lower_bound = q1 - threshold * iqr\n",
    "    upper_bound = q3 + threshold * iqr\n",
    "    data[data < lower_bound] = lower_bound  \n",
    "    data[data > upper_bound] = upper_bound  \n",
    "    return data\n",
    "\n"
   ]
  },
  {
   "cell_type": "code",
   "execution_count": 313,
   "id": "68f985b4-71dd-41ea-8448-98590f89f9be",
   "metadata": {},
   "outputs": [
    {
     "data": {
      "text/plain": [
       "time\n",
       "1990-01-02    0.00\n",
       "1990-01-03    0.00\n",
       "1990-01-04    0.00\n",
       "1990-01-05    0.00\n",
       "1990-01-06    0.00\n",
       "              ... \n",
       "2022-07-21    0.75\n",
       "2022-07-22    0.00\n",
       "2022-07-23    0.00\n",
       "2022-07-24    0.30\n",
       "2022-07-25    0.50\n",
       "Name: prcp, Length: 11893, dtype: float64"
      ]
     },
     "execution_count": 313,
     "metadata": {},
     "output_type": "execute_result"
    }
   ],
   "source": [
    "handle_outliers(bng['prcp'])"
   ]
  },
  {
   "cell_type": "code",
   "execution_count": 314,
   "id": "503fe254-fa11-4add-9983-d04cdf875b9a",
   "metadata": {},
   "outputs": [
    {
     "data": {
      "text/plain": [
       "time\n",
       "1990-01-02    26.5\n",
       "1990-01-03    26.5\n",
       "1990-01-04    27.4\n",
       "1990-01-05    26.1\n",
       "1990-01-06    24.2\n",
       "              ... \n",
       "2022-07-21    30.8\n",
       "2022-07-22    27.9\n",
       "2022-07-23    26.7\n",
       "2022-07-24    26.7\n",
       "2022-07-25    28.5\n",
       "Name: tmax, Length: 11893, dtype: float64"
      ]
     },
     "execution_count": 314,
     "metadata": {},
     "output_type": "execute_result"
    }
   ],
   "source": [
    "handle_outliers(bng['tmax'])"
   ]
  },
  {
   "cell_type": "code",
   "execution_count": 315,
   "id": "02939f8d-4793-43b2-a0ee-7c18eb677ec0",
   "metadata": {},
   "outputs": [
    {
     "data": {
      "text/plain": [
       "time\n",
       "1990-01-02    19.1\n",
       "1990-01-03    16.4\n",
       "1990-01-04    16.4\n",
       "1990-01-05    14.3\n",
       "1990-01-06    17.1\n",
       "              ... \n",
       "2022-07-21    20.5\n",
       "2022-07-22    21.1\n",
       "2022-07-23    20.9\n",
       "2022-07-24    20.0\n",
       "2022-07-25    20.2\n",
       "Name: tmin, Length: 11893, dtype: float64"
      ]
     },
     "execution_count": 315,
     "metadata": {},
     "output_type": "execute_result"
    }
   ],
   "source": [
    "handle_outliers(bng['tmin'])"
   ]
  },
  {
   "cell_type": "code",
   "execution_count": 316,
   "id": "267f59d7-a51f-49e4-b7b3-afbda623b576",
   "metadata": {},
   "outputs": [
    {
     "data": {
      "text/plain": [
       "time\n",
       "1990-01-02    21.7\n",
       "1990-01-03    21.0\n",
       "1990-01-04    20.8\n",
       "1990-01-05    20.4\n",
       "1990-01-06    20.4\n",
       "              ... \n",
       "2022-07-21    23.7\n",
       "2022-07-22    23.2\n",
       "2022-07-23    23.1\n",
       "2022-07-24    22.8\n",
       "2022-07-25    24.1\n",
       "Name: tavg, Length: 11893, dtype: float64"
      ]
     },
     "execution_count": 316,
     "metadata": {},
     "output_type": "execute_result"
    }
   ],
   "source": [
    "handle_outliers(bng['tavg'])"
   ]
  },
  {
   "cell_type": "code",
   "execution_count": 317,
   "id": "7acc17d0-9732-43ec-822e-3a9229ad6caa",
   "metadata": {},
   "outputs": [
    {
     "data": {
      "image/png": "[encoded data removed]",
      "text/plain": [
       "<Figure size 640x480 with 1 Axes>"
      ]
     },
     "metadata": {},
     "output_type": "display_data"
    }
   ],
   "source": [
    "plt.boxplot(bng,labels=['tavg','tmin','tmax','prcp'])\n",
    "plt.xlabel('features')\n",
    "plt.ylabel('outliers')\n",
    "plt.title('After handling outliers')\n",
    "plt.show()"
   ]
  },
  {
   "cell_type": "code",
   "execution_count": 318,
   "id": "ccb4c3d5-bf7c-439c-981e-4b2002a1c399",
   "metadata": {},
   "outputs": [],
   "source": [
    "import numpy as np\n",
    "\n",
    "def min_max_scaling(data):\n",
    "    min_val = np.min(data, axis=0)\n",
    "    max_val = np.max(data, axis=0)\n",
    "    scaled_data = (data - min_val) / (max_val - min_val)\n",
    "    return scaled_data\n"
   ]
  },
  {
   "cell_type": "code",
   "execution_count": 319,
   "id": "097b13b2-2dec-46bb-a132-4fb080afe08a",
   "metadata": {},
   "outputs": [
    {
     "data": {
      "text/html": [
       "<div>\n",
       "<style scoped>\n",
       "    .dataframe tbody tr th:only-of-type {\n",
       "        vertical-align: middle;\n",
       "    }\n",
       "\n",
       "    .dataframe tbody tr th {\n",
       "        vertical-align: top;\n",
       "    }\n",
       "\n",
       "    .dataframe thead th {\n",
       "        text-align: right;\n",
       "    }\n",
       "</style>\n",
       "<table border=\"1\" class=\"dataframe\">\n",
       "  <thead>\n",
       "    <tr style=\"text-align: right;\">\n",
       "      <th></th>\n",
       "      <th>tavg</th>\n",
       "      <th>tmin</th>\n",
       "      <th>tmax</th>\n",
       "      <th>prcp</th>\n",
       "    </tr>\n",
       "    <tr>\n",
       "      <th>time</th>\n",
       "      <th></th>\n",
       "      <th></th>\n",
       "      <th></th>\n",
       "      <th></th>\n",
       "    </tr>\n",
       "  </thead>\n",
       "  <tbody>\n",
       "    <tr>\n",
       "      <th>1990-01-02</th>\n",
       "      <td>0.323276</td>\n",
       "      <td>0.461538</td>\n",
       "      <td>0.28750</td>\n",
       "      <td>0.000000</td>\n",
       "    </tr>\n",
       "    <tr>\n",
       "      <th>1990-01-03</th>\n",
       "      <td>0.262931</td>\n",
       "      <td>0.201923</td>\n",
       "      <td>0.28750</td>\n",
       "      <td>0.000000</td>\n",
       "    </tr>\n",
       "    <tr>\n",
       "      <th>1990-01-04</th>\n",
       "      <td>0.245690</td>\n",
       "      <td>0.201923</td>\n",
       "      <td>0.34375</td>\n",
       "      <td>0.000000</td>\n",
       "    </tr>\n",
       "    <tr>\n",
       "      <th>1990-01-05</th>\n",
       "      <td>0.211207</td>\n",
       "      <td>0.000000</td>\n",
       "      <td>0.26250</td>\n",
       "      <td>0.000000</td>\n",
       "    </tr>\n",
       "    <tr>\n",
       "      <th>1990-01-06</th>\n",
       "      <td>0.211207</td>\n",
       "      <td>0.269231</td>\n",
       "      <td>0.14375</td>\n",
       "      <td>0.000000</td>\n",
       "    </tr>\n",
       "    <tr>\n",
       "      <th>...</th>\n",
       "      <td>...</td>\n",
       "      <td>...</td>\n",
       "      <td>...</td>\n",
       "      <td>...</td>\n",
       "    </tr>\n",
       "    <tr>\n",
       "      <th>2022-07-21</th>\n",
       "      <td>0.495690</td>\n",
       "      <td>0.596154</td>\n",
       "      <td>0.55625</td>\n",
       "      <td>1.000000</td>\n",
       "    </tr>\n",
       "    <tr>\n",
       "      <th>2022-07-22</th>\n",
       "      <td>0.452586</td>\n",
       "      <td>0.653846</td>\n",
       "      <td>0.37500</td>\n",
       "      <td>0.000000</td>\n",
       "    </tr>\n",
       "    <tr>\n",
       "      <th>2022-07-23</th>\n",
       "      <td>0.443966</td>\n",
       "      <td>0.634615</td>\n",
       "      <td>0.30000</td>\n",
       "      <td>0.000000</td>\n",
       "    </tr>\n",
       "    <tr>\n",
       "      <th>2022-07-24</th>\n",
       "      <td>0.418103</td>\n",
       "      <td>0.548077</td>\n",
       "      <td>0.30000</td>\n",
       "      <td>0.400000</td>\n",
       "    </tr>\n",
       "    <tr>\n",
       "      <th>2022-07-25</th>\n",
       "      <td>0.530172</td>\n",
       "      <td>0.567308</td>\n",
       "      <td>0.41250</td>\n",
       "      <td>0.666667</td>\n",
       "    </tr>\n",
       "  </tbody>\n",
       "</table>\n",
       "<p>11893 rows × 4 columns</p>\n",
       "</div>"
      ],
      "text/plain": [
       "                tavg      tmin     tmax      prcp\n",
       "time                                             \n",
       "1990-01-02  0.323276  0.461538  0.28750  0.000000\n",
       "1990-01-03  0.262931  0.201923  0.28750  0.000000\n",
       "1990-01-04  0.245690  0.201923  0.34375  0.000000\n",
       "1990-01-05  0.211207  0.000000  0.26250  0.000000\n",
       "1990-01-06  0.211207  0.269231  0.14375  0.000000\n",
       "...              ...       ...      ...       ...\n",
       "2022-07-21  0.495690  0.596154  0.55625  1.000000\n",
       "2022-07-22  0.452586  0.653846  0.37500  0.000000\n",
       "2022-07-23  0.443966  0.634615  0.30000  0.000000\n",
       "2022-07-24  0.418103  0.548077  0.30000  0.400000\n",
       "2022-07-25  0.530172  0.567308  0.41250  0.666667\n",
       "\n",
       "[11893 rows x 4 columns]"
      ]
     },
     "execution_count": 319,
     "metadata": {},
     "output_type": "execute_result"
    }
   ],
   "source": [
    "min_max_scaling(bng)"
   ]
  },
  {
   "cell_type": "markdown",
   "id": "cfc78cf3-d109-41fe-b6f3-630dcee281df",
   "metadata": {},
   "source": [
    "# CATEGORIZATION OF THE DATASET\n",
    "DATASET IS CLASSIFIED INTO FOLLOWING :\n",
    "1>COLD MIGHT RAIN\n",
    "2>MODERATE  MIGHT RAIN\n",
    "3>HOT\n",
    "4>MODERATE \n",
    "5>COLD"
   ]
  },
  {
   "cell_type": "code",
   "execution_count": 320,
   "id": "b0adb86c-a38d-4a57-8bb7-35539343e928",
   "metadata": {},
   "outputs": [],
   "source": [
    "def categorize(data):\n",
    "  data[\"category\"]=np.nan\n",
    "  prcp_=0\n",
    "  high_temp=30\n",
    "  low_temp=25\n",
    "\n",
    "  categories=[]\n",
    "  for index, row in data.iterrows():\n",
    "    precipitation=row[\"prcp\"]\n",
    "    max_temp=row[\"tmax\"]\n",
    "    min_temp=row[\"tmin\"]\n",
    "\n",
    "    \n",
    "    if(max_temp>high_temp):\n",
    "      category=\"hot\"\n",
    "    \n",
    "    elif(25<max_temp<=30):\n",
    "       category=\"moderate\"\n",
    "    elif (0<min_temp<25.0):\n",
    "      category=\"cold\"\n",
    "    else:\n",
    "       category=\"moderate\"\n",
    "    categories.append(category)\n",
    "  data[\"category\"]=categories\n",
    "  return data\n"
   ]
  },
  {
   "cell_type": "markdown",
   "id": "6a2b43fe-27bc-4bb7-b33f-150b8384c154",
   "metadata": {},
   "source": [
    "# CLASSIFYING OUR DATA"
   ]
  },
  {
   "cell_type": "code",
   "execution_count": 321,
   "id": "b2a0eaf9-69ad-4dd8-9da0-1a2dcb19d137",
   "metadata": {},
   "outputs": [],
   "source": [
    "bng=categorize(bng)"
   ]
  },
  {
   "cell_type": "code",
   "execution_count": 322,
   "id": "3248ad41-0d02-4c43-9ab0-1613aff56922",
   "metadata": {},
   "outputs": [
    {
     "data": {
      "text/html": [
       "<div>\n",
       "<style scoped>\n",
       "    .dataframe tbody tr th:only-of-type {\n",
       "        vertical-align: middle;\n",
       "    }\n",
       "\n",
       "    .dataframe tbody tr th {\n",
       "        vertical-align: top;\n",
       "    }\n",
       "\n",
       "    .dataframe thead th {\n",
       "        text-align: right;\n",
       "    }\n",
       "</style>\n",
       "<table border=\"1\" class=\"dataframe\">\n",
       "  <thead>\n",
       "    <tr style=\"text-align: right;\">\n",
       "      <th></th>\n",
       "      <th>tavg</th>\n",
       "      <th>tmin</th>\n",
       "      <th>tmax</th>\n",
       "      <th>prcp</th>\n",
       "      <th>category</th>\n",
       "    </tr>\n",
       "    <tr>\n",
       "      <th>time</th>\n",
       "      <th></th>\n",
       "      <th></th>\n",
       "      <th></th>\n",
       "      <th></th>\n",
       "      <th></th>\n",
       "    </tr>\n",
       "  </thead>\n",
       "  <tbody>\n",
       "    <tr>\n",
       "      <th>1990-01-02</th>\n",
       "      <td>21.7</td>\n",
       "      <td>19.1</td>\n",
       "      <td>26.5</td>\n",
       "      <td>0.00</td>\n",
       "      <td>moderate</td>\n",
       "    </tr>\n",
       "    <tr>\n",
       "      <th>1990-01-03</th>\n",
       "      <td>21.0</td>\n",
       "      <td>16.4</td>\n",
       "      <td>26.5</td>\n",
       "      <td>0.00</td>\n",
       "      <td>moderate</td>\n",
       "    </tr>\n",
       "    <tr>\n",
       "      <th>1990-01-04</th>\n",
       "      <td>20.8</td>\n",
       "      <td>16.4</td>\n",
       "      <td>27.4</td>\n",
       "      <td>0.00</td>\n",
       "      <td>moderate</td>\n",
       "    </tr>\n",
       "    <tr>\n",
       "      <th>1990-01-05</th>\n",
       "      <td>20.4</td>\n",
       "      <td>14.3</td>\n",
       "      <td>26.1</td>\n",
       "      <td>0.00</td>\n",
       "      <td>moderate</td>\n",
       "    </tr>\n",
       "    <tr>\n",
       "      <th>1990-01-06</th>\n",
       "      <td>20.4</td>\n",
       "      <td>17.1</td>\n",
       "      <td>24.2</td>\n",
       "      <td>0.00</td>\n",
       "      <td>cold</td>\n",
       "    </tr>\n",
       "    <tr>\n",
       "      <th>...</th>\n",
       "      <td>...</td>\n",
       "      <td>...</td>\n",
       "      <td>...</td>\n",
       "      <td>...</td>\n",
       "      <td>...</td>\n",
       "    </tr>\n",
       "    <tr>\n",
       "      <th>2022-07-21</th>\n",
       "      <td>23.7</td>\n",
       "      <td>20.5</td>\n",
       "      <td>30.8</td>\n",
       "      <td>0.75</td>\n",
       "      <td>hot</td>\n",
       "    </tr>\n",
       "    <tr>\n",
       "      <th>2022-07-22</th>\n",
       "      <td>23.2</td>\n",
       "      <td>21.1</td>\n",
       "      <td>27.9</td>\n",
       "      <td>0.00</td>\n",
       "      <td>moderate</td>\n",
       "    </tr>\n",
       "    <tr>\n",
       "      <th>2022-07-23</th>\n",
       "      <td>23.1</td>\n",
       "      <td>20.9</td>\n",
       "      <td>26.7</td>\n",
       "      <td>0.00</td>\n",
       "      <td>moderate</td>\n",
       "    </tr>\n",
       "    <tr>\n",
       "      <th>2022-07-24</th>\n",
       "      <td>22.8</td>\n",
       "      <td>20.0</td>\n",
       "      <td>26.7</td>\n",
       "      <td>0.30</td>\n",
       "      <td>moderate</td>\n",
       "    </tr>\n",
       "    <tr>\n",
       "      <th>2022-07-25</th>\n",
       "      <td>24.1</td>\n",
       "      <td>20.2</td>\n",
       "      <td>28.5</td>\n",
       "      <td>0.50</td>\n",
       "      <td>moderate</td>\n",
       "    </tr>\n",
       "  </tbody>\n",
       "</table>\n",
       "<p>11893 rows × 5 columns</p>\n",
       "</div>"
      ],
      "text/plain": [
       "            tavg  tmin  tmax  prcp  category\n",
       "time                                        \n",
       "1990-01-02  21.7  19.1  26.5  0.00  moderate\n",
       "1990-01-03  21.0  16.4  26.5  0.00  moderate\n",
       "1990-01-04  20.8  16.4  27.4  0.00  moderate\n",
       "1990-01-05  20.4  14.3  26.1  0.00  moderate\n",
       "1990-01-06  20.4  17.1  24.2  0.00      cold\n",
       "...          ...   ...   ...   ...       ...\n",
       "2022-07-21  23.7  20.5  30.8  0.75       hot\n",
       "2022-07-22  23.2  21.1  27.9  0.00  moderate\n",
       "2022-07-23  23.1  20.9  26.7  0.00  moderate\n",
       "2022-07-24  22.8  20.0  26.7  0.30  moderate\n",
       "2022-07-25  24.1  20.2  28.5  0.50  moderate\n",
       "\n",
       "[11893 rows x 5 columns]"
      ]
     },
     "execution_count": 322,
     "metadata": {},
     "output_type": "execute_result"
    }
   ],
   "source": [
    "bng"
   ]
  },
  {
   "cell_type": "code",
   "execution_count": 323,
   "id": "5684f6bc-7c24-4bb2-9542-d1ced42e0f8f",
   "metadata": {},
   "outputs": [],
   "source": [
    "s = [\"tmax\",\"prcp\"]\n",
    "X = bng[s]\n",
    "y = bng[\"category\"]"
   ]
  },
  {
   "cell_type": "markdown",
   "id": "39ce3bf1-7a0a-44db-b35f-636ed8963dca",
   "metadata": {},
   "source": [
    "# SPLITTING\n",
    "DATA IS SPLITTED INTO TRAIN AND TEST DATA OF TEST SIZE 0.3"
   ]
  },
  {
   "cell_type": "code",
   "execution_count": 324,
   "id": "e464c5cd-d6e2-408a-b8f1-82480549acc8",
   "metadata": {},
   "outputs": [],
   "source": [
    "X_train, X_test, y_train, y_test=train_test_split(X, y, test_size=0.3, random_state=42)"
   ]
  },
  {
   "cell_type": "markdown",
   "id": "8536d89c-20e9-4af1-8bb5-5a1d9461081b",
   "metadata": {},
   "source": [
    "# TARINING THE MODEL\n",
    "MODEL IS TRAINED USING LOGISTIC REGRESSION MODEL.\n",
    "Logistic regression is a supervised machine learning algorithm widely used for binary classification tasks, such as identifying whether an email is spam or not and diagnosing diseases by assessing the presence or absence of specific conditions based on patient test results."
   ]
  },
  {
   "cell_type": "code",
   "execution_count": 325,
   "id": "a240b444-9bc9-4bfa-919c-cadf9674ff7d",
   "metadata": {},
   "outputs": [],
   "source": [
    "model = LogisticRegression(max_iter=1000) \n",
    "import warnings\n",
    "warnings.filterwarnings(\"ignore\", category=ConvergenceWarning)"
   ]
  },
  {
   "cell_type": "code",
   "execution_count": 326,
   "id": "4f67d605-1bb0-42b3-ab93-47f63978dc90",
   "metadata": {},
   "outputs": [],
   "source": [
    "try:\n",
    "    model.fit(X_train, y_train)  \n",
    "except ConvergenceWarning:\n",
    "    print(\"Warning: Model might not have fully converged. Consider data preprocessing or a different solver.\")\n",
    "pickle.dump(model,open(\"model.pkl\",\"wb\"))\n",
    "predictions=model.predict(X_test)\n",
    "y_pred_lr=model.decision_function(X_test)"
   ]
  },
  {
   "cell_type": "code",
   "execution_count": 327,
   "id": "760305b5-f907-4ffb-b57b-c0b0e7854232",
   "metadata": {},
   "outputs": [
    {
     "data": {
      "text/plain": [
       "array(['moderate', 'moderate', 'hot', ..., 'hot', 'moderate', 'moderate'],\n",
       "      dtype=object)"
      ]
     },
     "execution_count": 327,
     "metadata": {},
     "output_type": "execute_result"
    }
   ],
   "source": [
    "predictions\n"
   ]
  },
  {
   "cell_type": "code",
   "execution_count": 328,
   "id": "daa050bd-1b0a-4040-8662-ef0a2766a457",
   "metadata": {},
   "outputs": [],
   "source": [
    "pred_prob=model.predict_proba(X_test)"
   ]
  },
  {
   "cell_type": "code",
   "execution_count": 329,
   "id": "e90759b1-1e51-49e2-8471-97f77cceb63f",
   "metadata": {},
   "outputs": [
    {
     "data": {
      "text/plain": [
       "(3568, 3)"
      ]
     },
     "execution_count": 329,
     "metadata": {},
     "output_type": "execute_result"
    }
   ],
   "source": [
    "pred_prob.shape"
   ]
  },
  {
   "cell_type": "code",
   "execution_count": 330,
   "id": "194e620a-ab34-49b9-9704-4b435f04c07e",
   "metadata": {},
   "outputs": [],
   "source": [
    "from sklearn.preprocessing import label_binarize\n",
    "y_test_b=label_binarize(y_test,classes=np.unique(y_test))\n",
    "classes=np.unique(y_test)"
   ]
  },
  {
   "cell_type": "code",
   "execution_count": 331,
   "id": "a047042a-4646-4a78-9282-0333c8e4ebb3",
   "metadata": {},
   "outputs": [
    {
     "data": {
      "text/plain": [
       "3"
      ]
     },
     "execution_count": 331,
     "metadata": {},
     "output_type": "execute_result"
    }
   ],
   "source": [
    "classes.shape[0]"
   ]
  },
  {
   "cell_type": "code",
   "execution_count": 332,
   "id": "3eb50ef5-ab3e-4aaf-b9ac-369a9989dc88",
   "metadata": {},
   "outputs": [],
   "source": [
    "y_test_b=label_binarize(y_test,classes=np.unique(y_test))\n",
    "fpr={}\n",
    "tpr={}\n",
    "thresh={}\n",
    "roc_auc=dict()\n",
    "n_class=classes.shape[0]"
   ]
  },
  {
   "cell_type": "code",
   "execution_count": 333,
   "id": "3bdba990-3ee6-416f-96b6-bc47522ca845",
   "metadata": {},
   "outputs": [
    {
     "data": {
      "image/png": "[encoded data removed]",
      "text/plain": [
       "<Figure size 640x480 with 1 Axes>"
      ]
     },
     "metadata": {},
     "output_type": "display_data"
    }
   ],
   "source": [
    "for i in range(n_class):\n",
    "    fpr[i],tpr[i],thresh[i]=roc_curve(y_test_b[:,i],pred_prob[:,i])\n",
    "    roc_auc[i]=auc(fpr[i],tpr[i])\n",
    "    plt.plot(fpr[i],tpr[i],thresh[i],linestyle='--',label='%s vs Rest (AUC=%0.2f)' %(classes[i],roc_auc[i]))\n",
    "plt.plot([0,1],[0,1],'b--')\n",
    "plt.title(\"ROC curve of logistic regression\")\n",
    "plt.xlabel('False positive rate')\n",
    "plt.ylabel('True positive rate')\n",
    "plt.legend(loc='lower right',fontsize=5)\n",
    "plt.show()\n"
   ]
  },
  {
   "cell_type": "code",
   "execution_count": 334,
   "id": "ea42da0a-8966-491d-9a0c-1f72c2016fc3",
   "metadata": {},
   "outputs": [
    {
     "name": "stdout",
     "output_type": "stream",
     "text": [
      "Fitting 5 folds for each of 3 candidates, totalling 15 fits\n",
      "[CV 1/5] END .............................C=0.1;, score=0.992 total time=   0.0s\n",
      "[CV 2/5] END .............................C=0.1;, score=0.997 total time=   0.0s\n",
      "[CV 3/5] END .............................C=0.1;, score=0.992 total time=   0.0s\n",
      "[CV 4/5] END .............................C=0.1;, score=0.996 total time=   0.0s\n",
      "[CV 5/5] END .............................C=0.1;, score=0.995 total time=   0.1s\n",
      "[CV 1/5] END ...............................C=1;, score=0.999 total time=   0.1s\n",
      "[CV 2/5] END ...............................C=1;, score=0.999 total time=   0.1s\n",
      "[CV 3/5] END ...............................C=1;, score=0.998 total time=   0.1s\n",
      "[CV 4/5] END ...............................C=1;, score=1.000 total time=   0.1s\n",
      "[CV 5/5] END ...............................C=1;, score=0.998 total time=   0.1s\n",
      "[CV 1/5] END ..............................C=10;, score=1.000 total time=   0.1s\n",
      "[CV 2/5] END ..............................C=10;, score=1.000 total time=   0.1s\n",
      "[CV 3/5] END ..............................C=10;, score=1.000 total time=   0.1s\n",
      "[CV 4/5] END ..............................C=10;, score=1.000 total time=   0.1s\n",
      "[CV 5/5] END ..............................C=10;, score=1.000 total time=   0.1s\n",
      "{'C': 10}\n",
      "1.0\n"
     ]
    }
   ],
   "source": [
    "param_grid = {'C': [0.1, 1, 10]} \n",
    "grid=GridSearchCV(LogisticRegression(), param_grid, refit=True, verbose=3)\n",
    "grid.fit(X_train, y_train)\n",
    "print(grid.best_params_)\n",
    "print(grid.best_score_)\n"
   ]
  },
  {
   "cell_type": "markdown",
   "id": "6f9c87d3-78bd-4846-9383-562a8f03494e",
   "metadata": {},
   "source": [
    "# CONFUSION MATRIX\n",
    "This specific confusion matrix suggests the model performed well overall. There were significant numbers of correct predictions along the diagonal, indicating a good ability to distinguish between the four classes.\n"
   ]
  },
  {
   "cell_type": "code",
   "execution_count": 335,
   "id": "bf21753b-4e98-4c20-85d3-52406f0b1b63",
   "metadata": {},
   "outputs": [
    {
     "data": {
      "text/plain": [
       "array([[ 116,    0,    6],\n",
       "       [   0, 1497,    0],\n",
       "       [   0,    0, 1949]], dtype=int64)"
      ]
     },
     "execution_count": 335,
     "metadata": {},
     "output_type": "execute_result"
    }
   ],
   "source": [
    "conf_matrix= confusion_matrix(y_test, predictions)\n",
    "conf_matrix\n"
   ]
  },
  {
   "cell_type": "markdown",
   "id": "aa24458e-26f1-4af8-af8c-70e1776920fd",
   "metadata": {},
   "source": [
    "# CLASSIFICATION REPORT\n",
    "The classification report you provided indicates a perfect classification scenario for a model predicting weather conditions with four categories: cold, cold-might rain, hot, and moderate."
   ]
  },
  {
   "cell_type": "markdown",
   "id": "976d0285-d177-4f16-9354-f4c00059c65d",
   "metadata": {},
   "source": [
    "# ANALYSING CLASSIFICATION REPORT\n",
    "Precision: This measures the proportion of positive predictions that were actually correct. In this case, for each class (cold, cold-might rain, hot, and moderate), precision is 1.00. This signifies that all the data points the model predicted as a specific weather condition (e.g., hot) truly belonged to that class. There were no false positives.\n",
    "\n",
    "Recall: This measures the proportion of actual positive cases that were identified correctly by the model. Again, all recall values are 1.00. This means the model found all the instances of each weather condition and didn't miss any (no false negatives).\n",
    "\n",
    "F1-Score: This is a harmonic mean of precision and recall, combining their importance into a single metric. Here, all F1-scores are 1.00, reflecting the perfect balance between precision and recall.\n",
    "\n",
    "Support: This represents the number of true instances for each class in the test data. There were 48 cold instances, 964 cold-might-rain instances, 1236 hot instances, and 1320 moderate instances.\n",
    "\n",
    "Accuracy: This is the overall proportion of correctly classified instances. The accuracy of 1.00 indicates the model classified all 3568 data points perfectly (all on the diagonal of the confusion matrix)."
   ]
  },
  {
   "cell_type": "code",
   "execution_count": 336,
   "id": "ab93cdd0-ecbe-4df0-a269-259f946b2f6d",
   "metadata": {},
   "outputs": [
    {
     "name": "stdout",
     "output_type": "stream",
     "text": [
      "              precision    recall  f1-score   support\n",
      "\n",
      "        cold       1.00      0.95      0.97       122\n",
      "         hot       1.00      1.00      1.00      1497\n",
      "    moderate       1.00      1.00      1.00      1949\n",
      "\n",
      "    accuracy                           1.00      3568\n",
      "   macro avg       1.00      0.98      0.99      3568\n",
      "weighted avg       1.00      1.00      1.00      3568\n",
      "\n"
     ]
    }
   ],
   "source": [
    "print(classification_report(y_test,predictions))"
   ]
  },
  {
   "cell_type": "markdown",
   "id": "92e47e2e-284f-4700-8b1e-78450b3b1d8b",
   "metadata": {},
   "source": [
    "# TRAIN ACCURACY"
   ]
  },
  {
   "cell_type": "code",
   "execution_count": 337,
   "id": "e7cf5c75-be29-43e4-94a4-9fbb17755398",
   "metadata": {},
   "outputs": [
    {
     "name": "stdout",
     "output_type": "stream",
     "text": [
      "train accurracy : 0.9983183856502242\n"
     ]
    }
   ],
   "source": [
    "print(\"train accurracy :\",accuracy_score(predictions,y_test))"
   ]
  },
  {
   "cell_type": "markdown",
   "id": "83750675-d905-495d-9f1d-db9b194e4d53",
   "metadata": {},
   "source": [
    "# TAKING INPUT\n",
    "INPUT FOR THE CLASSIFYING THE CURRENT WEATHER IS  TAKEN FROM THE WEATHER API WHERE WE GET CURRENT REAL TIME DATA"
   ]
  },
  {
   "cell_type": "code",
   "execution_count": 338,
   "id": "85fe2175-ab68-4d02-9212-90bb43cd68f6",
   "metadata": {},
   "outputs": [],
   "source": [
    "url=\"https://api.weatherapi.com/v1/current.json?key=0e4c7283425846b9bad134350240606&q=bengaluru&aqi=no\""
   ]
  },
  {
   "cell_type": "code",
   "execution_count": 339,
   "id": "be14ce9a-7242-4cbb-a1a4-b27b5394d0fc",
   "metadata": {},
   "outputs": [],
   "source": [
    "response=requests.get(url)"
   ]
  },
  {
   "cell_type": "code",
   "execution_count": 340,
   "id": "9b2db78b-93b5-417d-baad-d701a9ddefc4",
   "metadata": {},
   "outputs": [],
   "source": [
    "if response.status_code==200:\n",
    "  weather_data=response.json()\n",
    "\n",
    "  temperature=weather_data[\"current\"][\"temp_c\"]\n",
    "  precipitation = weather_data[\"current\"][\"precip_in\"]\n",
    "else:\n",
    "  print(f\"Error: API request failed with status code {response.status_code}\")"
   ]
  },
  {
   "cell_type": "code",
   "execution_count": 341,
   "id": "54d9738c-5381-438d-b792-5d74dab23699",
   "metadata": {},
   "outputs": [],
   "source": [
    "from datetime import date\n",
    "now = datetime.now()\n",
    "\n",
    "data={\"tmax\":temperature,\n",
    "      \n",
    "      \"prcp\":precipitation}"
   ]
  },
  {
   "cell_type": "markdown",
   "id": "b6750db3-157a-47b0-8675-3540611b81f2",
   "metadata": {},
   "source": [
    "# PREDICTING THE CURRENT WEATHER"
   ]
  },
  {
   "cell_type": "code",
   "execution_count": 342,
   "id": "3fbaf7d3-065e-4b2f-831c-0dab09b4b3e5",
   "metadata": {},
   "outputs": [],
   "source": [
    "bng1=pd.DataFrame(data,index=[0])\n",
    "pre=model.predict(bng1)"
   ]
  },
  {
   "cell_type": "code",
   "execution_count": 343,
   "id": "989e11ae-2efa-4c8e-a91a-d2f366eaafb1",
   "metadata": {},
   "outputs": [
    {
     "data": {
      "text/plain": [
       "array(['cold'], dtype=object)"
      ]
     },
     "execution_count": 343,
     "metadata": {},
     "output_type": "execute_result"
    }
   ],
   "source": [
    "pre"
   ]
  },
  {
   "cell_type": "code",
   "execution_count": 344,
   "id": "8feb2e64-e19d-4c11-96a9-18b257f12689",
   "metadata": {},
   "outputs": [
    {
     "name": "stdout",
     "output_type": "stream",
     "text": [
      "\n",
      "date and time: 2024-08-06 20:48:31.732881 \n",
      "temperature: 23.1 degree celsius \n",
      "precipitation: 0.01 \n",
      "weather prediction ['cold']\n"
     ]
    }
   ],
   "source": [
    "print(\"\\ndate and time:\",now,\"\\ntemperature:\",data[\"tmax\"],\"degree celsius\", \"\\nprecipitation:\",data[\"prcp\"],\"\\nweather prediction\",pre)"
   ]
  },
  {
   "cell_type": "markdown",
   "id": "7b912630-3ea0-4412-bea9-557305c85294",
   "metadata": {},
   "source": [
    "# RANDOM FOREST CLASSIFICATION\n",
    "A random forest is a meta estimator that fits a number of decision tree classifiers on various sub-samples of the dataset and uses averaging to improve the predictive accuracy and control over-fitting. Trees in the forest use the best split strategy, i.e. equivalent to passing splitter=\"best\" to the underlying DecisionTreeRegressor. The sub-sample size is controlled with the max_samples parameter if bootstrap=True (default), otherwise the whole dataset is used to build each tree.\n"
   ]
  },
  {
   "cell_type": "code",
   "execution_count": 364,
   "id": "8f42689c-71a8-4221-83ac-7aae76755d61",
   "metadata": {},
   "outputs": [],
   "source": [
    "modell=RandomForestClassifier()"
   ]
  },
  {
   "cell_type": "code",
   "execution_count": 365,
   "id": "358dee95-beff-4f8e-a487-aead3e83d269",
   "metadata": {},
   "outputs": [
    {
     "data": {
      "text/html": [
       "<style>#sk-container-id-9 {color: black;background-color: white;}#sk-container-id-9 pre{padding: 0;}#sk-container-id-9 div.sk-toggleable {background-color: white;}#sk-container-id-9 label.sk-toggleable__label {cursor: pointer;display: block;width: 100%;margin-bottom: 0;padding: 0.3em;box-sizing: border-box;text-align: center;}#sk-container-id-9 label.sk-toggleable__label-arrow:before {content: \"▸\";float: left;margin-right: 0.25em;color: #696969;}#sk-container-id-9 label.sk-toggleable__label-arrow:hover:before {color: black;}#sk-container-id-9 div.sk-estimator:hover label.sk-toggleable__label-arrow:before {color: black;}#sk-container-id-9 div.sk-toggleable__content {max-height: 0;max-width: 0;overflow: hidden;text-align: left;background-color: #f0f8ff;}#sk-container-id-9 div.sk-toggleable__content pre {margin: 0.2em;color: black;border-radius: 0.25em;background-color: #f0f8ff;}#sk-container-id-9 input.sk-toggleable__control:checked~div.sk-toggleable__content {max-height: 200px;max-width: 100%;overflow: auto;}#sk-container-id-9 input.sk-toggleable__control:checked~label.sk-toggleable__label-arrow:before {content: \"▾\";}#sk-container-id-9 div.sk-estimator input.sk-toggleable__control:checked~label.sk-toggleable__label {background-color: #d4ebff;}#sk-container-id-9 div.sk-label input.sk-toggleable__control:checked~label.sk-toggleable__label {background-color: #d4ebff;}#sk-container-id-9 input.sk-hidden--visually {border: 0;clip: rect(1px 1px 1px 1px);clip: rect(1px, 1px, 1px, 1px);height: 1px;margin: -1px;overflow: hidden;padding: 0;position: absolute;width: 1px;}#sk-container-id-9 div.sk-estimator {font-family: monospace;background-color: #f0f8ff;border: 1px dotted black;border-radius: 0.25em;box-sizing: border-box;margin-bottom: 0.5em;}#sk-container-id-9 div.sk-estimator:hover {background-color: #d4ebff;}#sk-container-id-9 div.sk-parallel-item::after {content: \"\";width: 100%;border-bottom: 1px solid gray;flex-grow: 1;}#sk-container-id-9 div.sk-label:hover label.sk-toggleable__label {background-color: #d4ebff;}#sk-container-id-9 div.sk-serial::before {content: \"\";position: absolute;border-left: 1px solid gray;box-sizing: border-box;top: 0;bottom: 0;left: 50%;z-index: 0;}#sk-container-id-9 div.sk-serial {display: flex;flex-direction: column;align-items: center;background-color: white;padding-right: 0.2em;padding-left: 0.2em;position: relative;}#sk-container-id-9 div.sk-item {position: relative;z-index: 1;}#sk-container-id-9 div.sk-parallel {display: flex;align-items: stretch;justify-content: center;background-color: white;position: relative;}#sk-container-id-9 div.sk-item::before, #sk-container-id-9 div.sk-parallel-item::before {content: \"\";position: absolute;border-left: 1px solid gray;box-sizing: border-box;top: 0;bottom: 0;left: 50%;z-index: -1;}#sk-container-id-9 div.sk-parallel-item {display: flex;flex-direction: column;z-index: 1;position: relative;background-color: white;}#sk-container-id-9 div.sk-parallel-item:first-child::after {align-self: flex-end;width: 50%;}#sk-container-id-9 div.sk-parallel-item:last-child::after {align-self: flex-start;width: 50%;}#sk-container-id-9 div.sk-parallel-item:only-child::after {width: 0;}#sk-container-id-9 div.sk-dashed-wrapped {border: 1px dashed gray;margin: 0 0.4em 0.5em 0.4em;box-sizing: border-box;padding-bottom: 0.4em;background-color: white;}#sk-container-id-9 div.sk-label label {font-family: monospace;font-weight: bold;display: inline-block;line-height: 1.2em;}#sk-container-id-9 div.sk-label-container {text-align: center;}#sk-container-id-9 div.sk-container {/* jupyter's `normalize.less` sets `[hidden] { display: none; }` but bootstrap.min.css set `[hidden] { display: none !important; }` so we also need the `!important` here to be able to override the default hidden behavior on the sphinx rendered scikit-learn.org. See: https://github.com/scikit-learn/scikit-learn/issues/21755 */display: inline-block !important;position: relative;}#sk-container-id-9 div.sk-text-repr-fallback {display: none;}</style><div id=\"sk-container-id-9\" class=\"sk-top-container\"><div class=\"sk-text-repr-fallback\"><pre>RandomForestClassifier()</pre><b>In a Jupyter environment, please rerun this cell to show the HTML representation or trust the notebook. <br />On GitHub, the HTML representation is unable to render, please try loading this page with nbviewer.org.</b></div><div class=\"sk-container\" hidden><div class=\"sk-item\"><div class=\"sk-estimator sk-toggleable\"><input class=\"sk-toggleable__control sk-hidden--visually\" id=\"sk-estimator-id-9\" type=\"checkbox\" checked><label for=\"sk-estimator-id-9\" class=\"sk-toggleable__label sk-toggleable__label-arrow\">RandomForestClassifier</label><div class=\"sk-toggleable__content\"><pre>RandomForestClassifier()</pre></div></div></div></div></div>"
      ],
      "text/plain": [
       "RandomForestClassifier()"
      ]
     },
     "execution_count": 365,
     "metadata": {},
     "output_type": "execute_result"
    }
   ],
   "source": [
    "modell.fit(X_test,y_test)"
   ]
  },
  {
   "cell_type": "code",
   "execution_count": 366,
   "id": "c37499c9-07fd-4f9d-a2e2-de43d90393b0",
   "metadata": {},
   "outputs": [],
   "source": [
    "predictionss=modell.predict(X_test)\n",
    "pred_prob1=modell.predict_proba(X_test)"
   ]
  },
  {
   "cell_type": "code",
   "execution_count": 367,
   "id": "31ffc53b-f596-4a97-b94b-b43449998c5b",
   "metadata": {},
   "outputs": [
    {
     "data": {
      "text/plain": [
       "array(['moderate', 'moderate', 'hot', ..., 'moderate', 'moderate',\n",
       "       'moderate'], dtype=object)"
      ]
     },
     "execution_count": 367,
     "metadata": {},
     "output_type": "execute_result"
    }
   ],
   "source": [
    "predictionss"
   ]
  },
  {
   "cell_type": "code",
   "execution_count": 368,
   "id": "f530ca6c-98b0-4e21-a616-beb187c5ac58",
   "metadata": {},
   "outputs": [
    {
     "data": {
      "image/png": "[encoded data removed]",
      "text/plain": [
       "<Figure size 640x480 with 1 Axes>"
      ]
     },
     "metadata": {},
     "output_type": "display_data"
    }
   ],
   "source": [
    "for i in range(n_class):\n",
    "    fpr[i],tpr[i],thresh[i]=roc_curve(y_test_b[:,i],pred_prob1[:,i])\n",
    "    roc_auc[i]=auc(fpr[i],tpr[i])\n",
    "    plt.plot(fpr[i],tpr[i],thresh[i],linestyle='--',label='%s vs Rest (AUC=%0.2f)' %(classes[i],roc_auc[i]))\n",
    "plt.plot([0,1],[0,1],'b--')\n",
    "plt.title(\"ROC curve of random Forest\")\n",
    "plt.xlabel('False positive rate')\n",
    "plt.ylabel('True positive rate')\n",
    "plt.legend(loc='lower right',fontsize=5)\n",
    "plt.show()"
   ]
  },
  {
   "cell_type": "code",
   "execution_count": 350,
   "id": "558a3e1a-ea7e-4e48-8b22-3008c53314bf",
   "metadata": {},
   "outputs": [],
   "source": [
    "confusion=confusion_matrix(y_test,predictionss)"
   ]
  },
  {
   "cell_type": "markdown",
   "id": "970b1c12-240c-4654-8aac-e0f2fde3a58d",
   "metadata": {},
   "source": [
    "# CONFUSION MATRIX\n",
    "High numbers of correct predictions are present along the diagonal, indicating a strong ability to distinguish between the four classes.\n",
    "Zeros off the diagonal imply no misclassifications occurred, meaning the model perfectly separated the data points into their intended categories.\n",
    "\n"
   ]
  },
  {
   "cell_type": "code",
   "execution_count": 351,
   "id": "715912c2-0742-48f9-ad6a-063ff7cafda7",
   "metadata": {},
   "outputs": [
    {
     "data": {
      "text/plain": [
       "array([[ 122,    0,    0],\n",
       "       [   0, 1497,    0],\n",
       "       [   0,    0, 1949]], dtype=int64)"
      ]
     },
     "execution_count": 351,
     "metadata": {},
     "output_type": "execute_result"
    }
   ],
   "source": [
    "confusion"
   ]
  },
  {
   "cell_type": "markdown",
   "id": "fea033d9-616f-42ff-a238-fe014c569fd6",
   "metadata": {},
   "source": [
    "# CLASSIFICATION REPORT\n",
    "Precision: This measures the proportion of positive predictions that were actually correct. In this case, for each class (cold, cold-might rain, hot, and moderate), precision is 1.00. This signifies that all the data points the model predicted as a specific weather condition (e.g., hot) truly belonged to that class. There were no false positives.\n",
    "\n",
    "Recall: This measures the proportion of actual positive cases that were identified correctly by the model. Again, all recall values are 1.00. This means the model found all the instances of each weather condition and didn't miss any (no false negatives).\n",
    "\n",
    "F1-Score: This is a harmonic mean of precision and recall, combining their importance into a single metric. Here, all F1-scores are 1.00, reflecting the perfect balance between precision and recall.\n",
    "\n",
    "Support: This represents the number of true instances for each class in the test data. There were 48 cold instances, 964 cold-might-rain instances, 1236 hot instances, and 1320 moderate instances.\n",
    "\n",
    "Accuracy: This is the overall proportion of correctly classified instances. The accuracy of 1.00 indicates the model classified all 3568 data points perfectly (all on the diagonal of the confusion matrix).\n",
    "\n",
    "Macro Avg & Weighted Avg: These are additional ways to calculate average precision, recall, and F1-score. In this case, since all individual class scores are perfect (1.00), both macro and weighted averages are also 1.00.\n"
   ]
  },
  {
   "cell_type": "code",
   "execution_count": 352,
   "id": "b3476ccb-aa73-41fa-aa0f-f419ef18793e",
   "metadata": {},
   "outputs": [
    {
     "name": "stdout",
     "output_type": "stream",
     "text": [
      "              precision    recall  f1-score   support\n",
      "\n",
      "        cold       1.00      1.00      1.00       122\n",
      "         hot       1.00      1.00      1.00      1497\n",
      "    moderate       1.00      1.00      1.00      1949\n",
      "\n",
      "    accuracy                           1.00      3568\n",
      "   macro avg       1.00      1.00      1.00      3568\n",
      "weighted avg       1.00      1.00      1.00      3568\n",
      "\n"
     ]
    }
   ],
   "source": [
    "print(classification_report(y_test,predictionss))"
   ]
  },
  {
   "cell_type": "markdown",
   "id": "e5868d79-416e-4451-972b-b92dafad7c65",
   "metadata": {},
   "source": [
    "# TRAIN ACCURACY"
   ]
  },
  {
   "cell_type": "code",
   "execution_count": 353,
   "id": "b43f8537-6810-4b8c-8478-f7fc0d84c382",
   "metadata": {},
   "outputs": [
    {
     "name": "stdout",
     "output_type": "stream",
     "text": [
      "train accurracy : 1.0\n"
     ]
    }
   ],
   "source": [
    "print(\"train accurracy :\",accuracy_score(predictionss,y_test))"
   ]
  },
  {
   "cell_type": "markdown",
   "id": "5aba4382-17c4-4810-9c96-64cae58f00d2",
   "metadata": {},
   "source": [
    "# svc model\n",
    "SVC (Support Vector Classifier): SVC is a specific implementation of the Support Vector Machine algorithm that is designed specifically for classification tasks. In other words, SVC is an SVM used for classification. It seeks to find the hyperplane that best separates the data points into different classes\n"
   ]
  },
  {
   "cell_type": "code",
   "execution_count": 354,
   "id": "ab9bf026-0c82-4a8c-837f-34658fe1629c",
   "metadata": {},
   "outputs": [
    {
     "data": {
      "text/html": [
       "<style>#sk-container-id-8 {color: black;background-color: white;}#sk-container-id-8 pre{padding: 0;}#sk-container-id-8 div.sk-toggleable {background-color: white;}#sk-container-id-8 label.sk-toggleable__label {cursor: pointer;display: block;width: 100%;margin-bottom: 0;padding: 0.3em;box-sizing: border-box;text-align: center;}#sk-container-id-8 label.sk-toggleable__label-arrow:before {content: \"▸\";float: left;margin-right: 0.25em;color: #696969;}#sk-container-id-8 label.sk-toggleable__label-arrow:hover:before {color: black;}#sk-container-id-8 div.sk-estimator:hover label.sk-toggleable__label-arrow:before {color: black;}#sk-container-id-8 div.sk-toggleable__content {max-height: 0;max-width: 0;overflow: hidden;text-align: left;background-color: #f0f8ff;}#sk-container-id-8 div.sk-toggleable__content pre {margin: 0.2em;color: black;border-radius: 0.25em;background-color: #f0f8ff;}#sk-container-id-8 input.sk-toggleable__control:checked~div.sk-toggleable__content {max-height: 200px;max-width: 100%;overflow: auto;}#sk-container-id-8 input.sk-toggleable__control:checked~label.sk-toggleable__label-arrow:before {content: \"▾\";}#sk-container-id-8 div.sk-estimator input.sk-toggleable__control:checked~label.sk-toggleable__label {background-color: #d4ebff;}#sk-container-id-8 div.sk-label input.sk-toggleable__control:checked~label.sk-toggleable__label {background-color: #d4ebff;}#sk-container-id-8 input.sk-hidden--visually {border: 0;clip: rect(1px 1px 1px 1px);clip: rect(1px, 1px, 1px, 1px);height: 1px;margin: -1px;overflow: hidden;padding: 0;position: absolute;width: 1px;}#sk-container-id-8 div.sk-estimator {font-family: monospace;background-color: #f0f8ff;border: 1px dotted black;border-radius: 0.25em;box-sizing: border-box;margin-bottom: 0.5em;}#sk-container-id-8 div.sk-estimator:hover {background-color: #d4ebff;}#sk-container-id-8 div.sk-parallel-item::after {content: \"\";width: 100%;border-bottom: 1px solid gray;flex-grow: 1;}#sk-container-id-8 div.sk-label:hover label.sk-toggleable__label {background-color: #d4ebff;}#sk-container-id-8 div.sk-serial::before {content: \"\";position: absolute;border-left: 1px solid gray;box-sizing: border-box;top: 0;bottom: 0;left: 50%;z-index: 0;}#sk-container-id-8 div.sk-serial {display: flex;flex-direction: column;align-items: center;background-color: white;padding-right: 0.2em;padding-left: 0.2em;position: relative;}#sk-container-id-8 div.sk-item {position: relative;z-index: 1;}#sk-container-id-8 div.sk-parallel {display: flex;align-items: stretch;justify-content: center;background-color: white;position: relative;}#sk-container-id-8 div.sk-item::before, #sk-container-id-8 div.sk-parallel-item::before {content: \"\";position: absolute;border-left: 1px solid gray;box-sizing: border-box;top: 0;bottom: 0;left: 50%;z-index: -1;}#sk-container-id-8 div.sk-parallel-item {display: flex;flex-direction: column;z-index: 1;position: relative;background-color: white;}#sk-container-id-8 div.sk-parallel-item:first-child::after {align-self: flex-end;width: 50%;}#sk-container-id-8 div.sk-parallel-item:last-child::after {align-self: flex-start;width: 50%;}#sk-container-id-8 div.sk-parallel-item:only-child::after {width: 0;}#sk-container-id-8 div.sk-dashed-wrapped {border: 1px dashed gray;margin: 0 0.4em 0.5em 0.4em;box-sizing: border-box;padding-bottom: 0.4em;background-color: white;}#sk-container-id-8 div.sk-label label {font-family: monospace;font-weight: bold;display: inline-block;line-height: 1.2em;}#sk-container-id-8 div.sk-label-container {text-align: center;}#sk-container-id-8 div.sk-container {/* jupyter's `normalize.less` sets `[hidden] { display: none; }` but bootstrap.min.css set `[hidden] { display: none !important; }` so we also need the `!important` here to be able to override the default hidden behavior on the sphinx rendered scikit-learn.org. See: https://github.com/scikit-learn/scikit-learn/issues/21755 */display: inline-block !important;position: relative;}#sk-container-id-8 div.sk-text-repr-fallback {display: none;}</style><div id=\"sk-container-id-8\" class=\"sk-top-container\"><div class=\"sk-text-repr-fallback\"><pre>SVC(kernel=&#x27;linear&#x27;, random_state=42)</pre><b>In a Jupyter environment, please rerun this cell to show the HTML representation or trust the notebook. <br />On GitHub, the HTML representation is unable to render, please try loading this page with nbviewer.org.</b></div><div class=\"sk-container\" hidden><div class=\"sk-item\"><div class=\"sk-estimator sk-toggleable\"><input class=\"sk-toggleable__control sk-hidden--visually\" id=\"sk-estimator-id-8\" type=\"checkbox\" checked><label for=\"sk-estimator-id-8\" class=\"sk-toggleable__label sk-toggleable__label-arrow\">SVC</label><div class=\"sk-toggleable__content\"><pre>SVC(kernel=&#x27;linear&#x27;, random_state=42)</pre></div></div></div></div></div>"
      ],
      "text/plain": [
       "SVC(kernel='linear', random_state=42)"
      ]
     },
     "execution_count": 354,
     "metadata": {},
     "output_type": "execute_result"
    }
   ],
   "source": [
    "modelll = SVC(kernel='linear', random_state=42)\n",
    "modelll.fit(X_train, y_train)"
   ]
  },
  {
   "cell_type": "code",
   "execution_count": 355,
   "id": "bd671228-eda5-460d-977d-5c3c4aa16b30",
   "metadata": {},
   "outputs": [
    {
     "data": {
      "text/plain": [
       "array(['moderate', 'moderate', 'hot', ..., 'hot', 'moderate', 'moderate'],\n",
       "      dtype=object)"
      ]
     },
     "execution_count": 355,
     "metadata": {},
     "output_type": "execute_result"
    }
   ],
   "source": [
    "modelll.predict(X_test)"
   ]
  },
  {
   "cell_type": "code",
   "execution_count": 356,
   "id": "e02bda38-85e9-4c40-9502-8790f1c955d0",
   "metadata": {},
   "outputs": [],
   "source": [
    "predictionsss=modelll.predict(X_test)"
   ]
  },
  {
   "cell_type": "code",
   "execution_count": 362,
   "id": "058cd69e-fce6-4214-92a5-2327d6127197",
   "metadata": {},
   "outputs": [
    {
     "data": {
      "image/png": "[encoded data removed]",
      "text/plain": [
       "<Figure size 640x480 with 1 Axes>"
      ]
     },
     "metadata": {},
     "output_type": "display_data"
    }
   ],
   "source": [
    "from sklearn.multiclass import OneVsRestClassifier\n",
    "fpr={}\n",
    "tpr={}\n",
    "thresh={}\n",
    "roc_auc=dict()\n",
    "\n",
    "svc=SVC(probability=True)\n",
    "clf=OneVsRestClassifier(svc)\n",
    "clf.fit(X_train,y_train)\n",
    "\n",
    "y_score=clf.predict_proba(X_test)\n",
    "y_test_b=label_binarize(y_test, classes=clf.classes_)\n",
    "n_classes=classes.shape[0]\n",
    "fpr = dict()\n",
    "tpr = dict()\n",
    "roc_auc = dict()\n",
    "for i in range(n_classes):\n",
    "    fpr[i], tpr[i], _ = roc_curve(y_test_b[:, i], y_score[:, i])\n",
    "    roc_auc[i] = auc(fpr[i], tpr[i])\n",
    "\n",
    "plt.figure()\n",
    "for i in range(n_classes):\n",
    "    plt.plot(fpr[i], tpr[i], label='ROC curve of class {0} (area = {1:0.2f})' ''.format(i, roc_auc[i]))\n",
    "\n",
    "plt.plot([0, 1], [0, 1], 'k--')\n",
    "plt.xlabel('False Positive Rate')\n",
    "plt.ylabel('True Positive Rate')\n",
    "plt.title('SVC ROC curve')\n",
    "plt.legend(loc=\"lower right\")\n",
    "plt.show() "
   ]
  },
  {
   "cell_type": "markdown",
   "id": "36ad8349-9715-4e3e-8180-7f805c95436c",
   "metadata": {},
   "source": [
    "# CONFUSION MATRIX\n",
    "This confusion matrix suggests the model performed well overall, with an accuracy of 99.02%. Here's why:\n",
    "\n",
    "High numbers of correct predictions are present along the diagonal, indicating a strong ability to distinguish between the four classes.\n",
    "The off-diagonal values are relatively low, signifying a minimal number of misclassifications.\n"
   ]
  },
  {
   "cell_type": "code",
   "execution_count": 358,
   "id": "699f6086-3b55-42f1-83bd-9c802fa4f9e5",
   "metadata": {},
   "outputs": [
    {
     "name": "stdout",
     "output_type": "stream",
     "text": [
      "[[ 122    0    0]\n",
      " [   0 1468   29]\n",
      " [   0    0 1949]]\n"
     ]
    }
   ],
   "source": [
    "print(confusion_matrix(y_test,predictionsss))"
   ]
  },
  {
   "cell_type": "markdown",
   "id": "d0b37bca-de52-4433-95e3-4d8b11c5f288",
   "metadata": {},
   "source": [
    "# CLASSIFICATION REPORT\n",
    "Precision: This measures the proportion of positive predictions that were actually correct.\n",
    "\n",
    "For example, precision for \"cold\" is 0.98. This means that out of all data points the model predicted as \"cold,\" 98% were truly cold.\n",
    "Recall: This measures the proportion of actual positive cases that were identified correctly by the model.\n",
    "\n",
    "For example, recall for \"cold-might rain\" is 0.99. This means that out of all data points that were actually \"cold-might rain,\" the model correctly identified 99%.\n",
    "F1-Score: This is a harmonic mean of precision and recall, combining their importance into a single metric. A value closer to 1 indicates a better balance between precision and recall.\n",
    "\n",
    "All F1-scores here are around 0.99, suggesting a good balance between the two metrics.\n",
    "Support: This represents the number of true instances for each class in the test data. There were 48 cold instances, 964 cold-might-rain instances, 1236 hot instances, and 1320 moderate instances.\n",
    "\n",
    "Accuracy: This is the overall proportion of correctly classified instances (99% in this case).\n",
    "\n",
    "Macro Avg & Weighted Avg: These are additional ways to calculate average precision, recall, and F1-score.\n",
    "\n",
    "Macro average considers the average performance across all classes, giving equal weight to each class regardless of its number of instances.\n",
    "Weighted average considers the number of instances in each class, giving more weight to classes with more data points."
   ]
  },
  {
   "cell_type": "code",
   "execution_count": 359,
   "id": "1e388f4a-3d51-44ce-8302-7f423d3578f3",
   "metadata": {},
   "outputs": [
    {
     "name": "stdout",
     "output_type": "stream",
     "text": [
      "              precision    recall  f1-score   support\n",
      "\n",
      "        cold       1.00      1.00      1.00       122\n",
      "         hot       1.00      0.98      0.99      1497\n",
      "    moderate       0.99      1.00      0.99      1949\n",
      "\n",
      "    accuracy                           0.99      3568\n",
      "   macro avg       1.00      0.99      0.99      3568\n",
      "weighted avg       0.99      0.99      0.99      3568\n",
      "\n"
     ]
    }
   ],
   "source": [
    "print(classification_report(y_test,predictionsss))"
   ]
  },
  {
   "cell_type": "markdown",
   "id": "ad1460ac-58d7-4c0e-984b-bd9927888b0e",
   "metadata": {},
   "source": [
    "# TRAIN ACCURACY\n",
    "\n",
    "The training accuracy of 0.9901 indicates that your machine learning model performed very well on the training data"
   ]
  },
  {
   "cell_type": "code",
   "execution_count": 360,
   "id": "4e551c9e-e160-4205-8e65-2346fd8d3694",
   "metadata": {},
   "outputs": [
    {
     "name": "stdout",
     "output_type": "stream",
     "text": [
      "train accurracy : 0.991872197309417\n"
     ]
    }
   ],
   "source": [
    "print(\"train accurracy :\",accuracy_score(predictionsss,y_test))"
   ]
  },
  {
   "cell_type": "code",
   "execution_count": 361,
   "id": "a54a209d-d8f2-43bf-83d7-65cdbd86cfa7",
   "metadata": {},
   "outputs": [
    {
     "name": "stdout",
     "output_type": "stream",
     "text": [
      "Fitting 5 folds for each of 6 candidates, totalling 30 fits\n",
      "[CV 1/5] END ..............C=0.1, kernel=linear;, score=0.995 total time=   0.2s\n",
      "[CV 2/5] END ..............C=0.1, kernel=linear;, score=0.998 total time=   0.2s\n",
      "[CV 3/5] END ..............C=0.1, kernel=linear;, score=0.994 total time=   0.2s\n",
      "[CV 4/5] END ..............C=0.1, kernel=linear;, score=0.998 total time=   0.2s\n",
      "[CV 5/5] END ..............C=0.1, kernel=linear;, score=0.998 total time=   0.2s\n",
      "[CV 1/5] END .................C=0.1, kernel=rbf;, score=0.925 total time=   2.2s\n",
      "[CV 2/5] END .................C=0.1, kernel=rbf;, score=0.930 total time=   2.2s\n",
      "[CV 3/5] END .................C=0.1, kernel=rbf;, score=0.928 total time=   2.2s\n",
      "[CV 4/5] END .................C=0.1, kernel=rbf;, score=0.937 total time=   2.2s\n",
      "[CV 5/5] END .................C=0.1, kernel=rbf;, score=0.934 total time=   2.8s\n",
      "[CV 1/5] END ................C=1, kernel=linear;, score=0.996 total time=   0.2s\n",
      "[CV 2/5] END ................C=1, kernel=linear;, score=0.999 total time=   0.2s\n",
      "[CV 3/5] END ................C=1, kernel=linear;, score=0.995 total time=   0.3s\n",
      "[CV 4/5] END ................C=1, kernel=linear;, score=0.999 total time=   0.3s\n",
      "[CV 5/5] END ................C=1, kernel=linear;, score=0.999 total time=   0.2s\n",
      "[CV 1/5] END ...................C=1, kernel=rbf;, score=0.976 total time=   1.0s\n",
      "[CV 2/5] END ...................C=1, kernel=rbf;, score=0.979 total time=   1.1s\n",
      "[CV 3/5] END ...................C=1, kernel=rbf;, score=0.981 total time=   1.1s\n",
      "[CV 4/5] END ...................C=1, kernel=rbf;, score=0.981 total time=   1.0s\n",
      "[CV 5/5] END ...................C=1, kernel=rbf;, score=0.981 total time=   1.0s\n",
      "[CV 1/5] END ...............C=10, kernel=linear;, score=1.000 total time=   0.2s\n",
      "[CV 2/5] END ...............C=10, kernel=linear;, score=1.000 total time=   0.1s\n",
      "[CV 3/5] END ...............C=10, kernel=linear;, score=1.000 total time=   0.1s\n",
      "[CV 4/5] END ...............C=10, kernel=linear;, score=1.000 total time=   0.2s\n",
      "[CV 5/5] END ...............C=10, kernel=linear;, score=0.998 total time=   0.1s\n",
      "[CV 1/5] END ..................C=10, kernel=rbf;, score=0.994 total time=   0.5s\n",
      "[CV 2/5] END ..................C=10, kernel=rbf;, score=0.996 total time=   0.5s\n",
      "[CV 3/5] END ..................C=10, kernel=rbf;, score=0.992 total time=   0.5s\n",
      "[CV 4/5] END ..................C=10, kernel=rbf;, score=0.995 total time=   0.5s\n",
      "[CV 5/5] END ..................C=10, kernel=rbf;, score=0.996 total time=   0.5s\n",
      "{'C': 10, 'kernel': 'linear'}\n",
      "0.9996845425867509\n"
     ]
    }
   ],
   "source": [
    "X=bng.drop('category', axis=1).values\n",
    "y=bng['category'].values\n",
    "X_train, X_test, y_train, y_test=train_test_split(X, y, test_size=0.2, random_state=42)\n",
    "param_grid = {'C': [0.1, 1, 10], 'kernel': ['linear', 'rbf']}\n",
    "grid = GridSearchCV(SVC(), param_grid, refit=True, verbose=3)\n",
    "grid.fit(X_train, y_train)\n",
    "print(grid.best_params_)\n",
    "print(grid.best_score_)"
   ]
  }
 ],
 "metadata": {
  "kernelspec": {
   "display_name": "Python 3 (ipykernel)",
   "language": "python",
   "name": "python3"
  },
  "language_info": {
   "codemirror_mode": {
    "name": "ipython",
    "version": 3
   },
   "file_extension": ".py",
   "mimetype": "text/x-python",
   "name": "python",
   "nbconvert_exporter": "python",
   "pygments_lexer": "ipython3",
   "version": "3.11.7"
  }
 },
 "nbformat": 4,
 "nbformat_minor": 5
}
